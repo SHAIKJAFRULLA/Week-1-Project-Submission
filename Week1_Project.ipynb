{
 "cells": [
  {
   "cell_type": "markdown",
   "id": "f20327e9",
   "metadata": {},
   "source": [
    "# Week 1 Project – Climate Risk & Disaster Management\n",
    "\n",
    "This notebook explores a dataset related to Climate Risk & Disaster Management.\n",
    "\n",
    "Steps covered:\n",
    "1. Import necessary libraries\n",
    "2. Load the dataset\n",
    "3. Explore the dataset using `.info()`, `.describe()`, `.isnull().sum()`\n",
    "4. Save and upload to GitHub"
   ]
  },
  {
   "cell_type": "code",
   "execution_count": null,
   "id": "c654107e",
   "metadata": {},
   "outputs": [],
   "source": [
    "import pandas as pd\n",
    "import numpy as np\n",
    "\n",
    "print('Libraries imported successfully!')"
   ]
  },
  {
   "cell_type": "code",
   "execution_count": null,
   "id": "525dfac1",
   "metadata": {},
   "outputs": [],
   "source": [
    "# Load Dataset\n",
    "# Replace 'your_dataset.csv' with your actual dataset filename\n",
    "df = pd.read_csv('your_dataset.csv')\n",
    "print('Dataset loaded successfully!')"
   ]
  },
  {
   "cell_type": "code",
   "execution_count": null,
   "id": "e7ac858d",
   "metadata": {},
   "outputs": [],
   "source": [
    "# Explore the Dataset\n",
    "print('Dataset Info:')\n",
    "display(df.info())\n",
    "\n",
    "print('\\nStatistical Summary:')\n",
    "display(df.describe())\n",
    "\n",
    "print('\\nMissing Values:')\n",
    "display(df.isnull().sum())\n",
    "\n",
    "print('\\nFirst 5 Rows:')\n",
    "display(df.head())"
   ]
  }
 ],
 "metadata": {},
 "nbformat": 4,
 "nbformat_minor": 5
}
